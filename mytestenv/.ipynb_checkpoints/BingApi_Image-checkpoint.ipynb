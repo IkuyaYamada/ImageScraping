{
 "cells": [
  {
   "cell_type": "code",
   "execution_count": null,
   "metadata": {},
   "outputs": [],
   "source": [
    "from azure.cognitiveservices.search.imagesearch import ImageSearchAPI\n",
    "from msrest.authentication import CognitiveServicesCredentials\n",
    "\n",
    "subscription_key = \"Enter your key here\"\n",
    "search_term = \"canadian rockies\"\n",
    "\n",
    "\"\"\"\n",
    "This application will search images on the web with the Bing Image Search API and print out first image result.\n",
    "\"\"\"\n",
    "#create the image search client\n",
    "client = ImageSearchAPI(CognitiveServicesCredentials(subscription_key))\n",
    "# send a search query to the Bing Image Search API\n",
    "image_results = client.images.search(query=search_term)\n",
    "print(\"Searching the web for images of: {}\".format(search_term))\n",
    "\n",
    "# Image results\n",
    "if image_results.value:\n",
    "    first_image_result = image_results.value[0]\n",
    "    print(\"Total number of images returned: {}\".format(len(image_results.value)))\n",
    "    print(\"First image thumbnail url: {}\".format(first_image_result.thumbnail_url))\n",
    "    print(\"First image content url: {}\".format(first_image_result.content_url))\n",
    "else:\n",
    "    print(\"Couldn't find image results!\")"
   ]
  }
 ],
 "metadata": {
  "kernelspec": {
   "display_name": "Python 3",
   "language": "python",
   "name": "python3"
  },
  "language_info": {
   "codemirror_mode": {
    "name": "ipython",
    "version": 3
   },
   "file_extension": ".py",
   "mimetype": "text/x-python",
   "name": "python",
   "nbconvert_exporter": "python",
   "pygments_lexer": "ipython3",
   "version": "3.6.8"
  }
 },
 "nbformat": 4,
 "nbformat_minor": 2
}
