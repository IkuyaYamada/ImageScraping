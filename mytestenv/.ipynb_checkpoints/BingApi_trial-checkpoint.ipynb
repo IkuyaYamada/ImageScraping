{
 "cells": [
  {
   "cell_type": "code",
   "execution_count": 61,
   "metadata": {},
   "outputs": [],
   "source": [
    "# Import required modules.\n",
    "from azure.cognitiveservices.search.websearch import WebSearchAPI\n",
    "from azure.cognitiveservices.search.websearch.models import SafeSearch\n",
    "from msrest.authentication import CognitiveServicesCredentials"
   ]
  },
  {
   "cell_type": "code",
   "execution_count": 62,
   "metadata": {},
   "outputs": [
    {
     "name": "stderr",
     "output_type": "stream",
     "text": [
      "Subtype value Organization has no mapping, use base class Thing.\n",
      "Subtype value Organization has no mapping, use base class Thing.\n",
      "Subtype value Organization has no mapping, use base class Thing.\n",
      "Subtype value Organization has no mapping, use base class Thing.\n",
      "Subtype value Organization has no mapping, use base class Thing.\n"
     ]
    },
    {
     "name": "stdout",
     "output_type": "stream",
     "text": [
      "\r\n",
      "Searched for Query# \" Football \"\n",
      "\r\n",
      "Webpage Results#10\n",
      "First web page name: NFL.com - Official Site of the National Football League \n",
      "First web page URL: http://www.nfl.com/ \n",
      "\r\n",
      "Image Results#20\n",
      "First Image name: Southeastern News — Southeastern Oklahoma State University \n",
      "First Image URL: None \n",
      "\r\n",
      "News Results#5\n",
      "First News name: Aaron Rodgers Donates 7-Figure Gift to Cal Football Program; Scholarship Created \n",
      "First News URL: https://bleacherreport.com/articles/2840564-aaron-rodgers-donates-7-figure-gift-to-cal-football-program-scholarship-created \n",
      "\r\n",
      "Videos Results#10\n",
      "First Videos name: Highlights \"Art Football\" 11.06.19 Argentina - Paraguay 1:0 \n",
      "First Videos URL: None \n"
     ]
    }
   ],
   "source": [
    "# Replace with your subscription key.\n",
    "subscription_key = \"7b0185c362dd42bb88eec937f6758a33\"\n",
    "\n",
    "# Instantiate the client and replace with your endpoint.\n",
    "client = WebSearchAPI(CognitiveServicesCredentials(subscription_key), base_url = \"https://api.cognitive.microsoft.com/bing/v7.0\")\n",
    "\n",
    "# Make a request. Replace Yosemite if you'd like.\n",
    "web_data = client.web.search(query=\"Football\")\n",
    "print(\"\\r\\nSearched for Query# \\\" Football \\\"\")\n",
    "\n",
    "\n",
    "'''\n",
    "Web pages\n",
    "If the search response contains web pages, the first result's name and url\n",
    "are printed.\n",
    "'''\n",
    "if hasattr(web_data.web_pages, 'value'):\n",
    "\n",
    "    print(\"\\r\\nWebpage Results#{}\".format(len(web_data.web_pages.value)))\n",
    "\n",
    "    first_web_page = web_data.web_pages.value[0]\n",
    "    print(\"First web page name: {} \".format(first_web_page.name))\n",
    "    print(\"First web page URL: {} \".format(first_web_page.url))\n",
    "\n",
    "else:\n",
    "    print(\"Didn't find any web pages...\")\n",
    "\n",
    "'''\n",
    "Images\n",
    "If the search response contains images, the first result's name and url\n",
    "are printed.\n",
    "'''\n",
    "if hasattr(web_data.images, 'value'):\n",
    "\n",
    "    print(\"\\r\\nImage Results#{}\".format(len(web_data.images.value)))\n",
    "\n",
    "    first_image = web_data.images.value[0]\n",
    "    print(\"First Image name: {} \".format(first_image.name))\n",
    "    print(\"First Image URL: {} \".format(first_image.url))\n",
    "\n",
    "else:\n",
    "    print(\"Didn't find any images...\")\n",
    "\n",
    "\n",
    "'''\n",
    "News\n",
    "If the search response contains news, the first result's name and url\n",
    "are printed.\n",
    "'''\n",
    "if hasattr(web_data.news, 'value'):\n",
    "\n",
    "    print(\"\\r\\nNews Results#{}\".format(len(web_data.news.value)))\n",
    "\n",
    "    first_news = web_data.news.value[0]\n",
    "    print(\"First News name: {} \".format(first_news.name))\n",
    "    print(\"First News URL: {} \".format(first_news.url))\n",
    "\n",
    "else:\n",
    "    print(\"Didn't find any news...\")\n",
    "\n",
    "\n",
    "'''\n",
    "If the search response contains videos, the first result's name and url\n",
    "are printed.\n",
    "'''\n",
    "if hasattr(web_data.videos, 'value'):\n",
    "\n",
    "    print(\"\\r\\nVideos Results#{}\".format(len(web_data.videos.value)))\n",
    "\n",
    "    first_video = web_data.videos.value[0]\n",
    "    print(\"First Videos name: {} \".format(first_video.name))\n",
    "    print(\"First Videos URL: {} \".format(first_video.url))\n",
    "\n",
    "else:\n",
    "    print(\"Didn't find any videos...\")"
   ]
  },
  {
   "cell_type": "code",
   "execution_count": 64,
   "metadata": {},
   "outputs": [],
   "source": [
    "# Declare the function.\n",
    "def web_results_with_count_and_offset(subscription_key):\n",
    "    client = WebSearchAPI(CognitiveServicesCredentials(subscription_key))\n",
    "\n",
    "    try:\n",
    "        '''\n",
    "        Set the query, offset, and count using the SDK's search method. See:\n",
    "        https://docs.microsoft.com/python/api/azure-cognitiveservices-search-websearch/azure.cognitiveservices.search.websearch.operations.weboperations?view=azure-python.\n",
    "        '''\n",
    "        web_data = client.web.search(query=\"Best restaurants in Seattle\", offset=10, count=20)\n",
    "        print(\"\\r\\nSearching for \\\"Best restaurants in Seattle\\\"\")\n",
    "        \n",
    "        if web_data.web_pages.value:\n",
    "            '''\n",
    "            If web pages are available, print the # of responses, and the first and second\n",
    "            web pages returned.\n",
    "            '''\n",
    "            print(\"Webpage Results#{}\".format(len(web_data.web_pages.value)))\n",
    "\n",
    "            first_web_page = web_data.web_pages.value[0]\n",
    "            print(\"First web page name: {} \".format(first_web_page.name))\n",
    "            print(\"First web page URL: {} \".format(first_web_page.url))\n",
    "        \n",
    "        else:\n",
    "             print(\"Didn't find any web pages...\")\n",
    "    except Exception as err:\n",
    "         print(\"Encountered exception. {}\".format(err))\n"
   ]
  },
  {
   "cell_type": "code",
   "execution_count": 67,
   "metadata": {},
   "outputs": [
    {
     "name": "stderr",
     "output_type": "stream",
     "text": [
      "Subtype value Organization has no mapping, use base class Thing.\n",
      "Subtype value Organization has no mapping, use base class Thing.\n",
      "Subtype value Organization has no mapping, use base class Thing.\n",
      "Subtype value Organization has no mapping, use base class Thing.\n",
      "Subtype value Organization has no mapping, use base class Thing.\n"
     ]
    },
    {
     "name": "stdout",
     "output_type": "stream",
     "text": [
      "\r\n",
      "Searching for \"xbox\" with the response filter set to \"News\" and freshness filter set to \"Day\".\n",
      "# of news results: 5\n",
      "First article name: Project Xbox Scarlett At E3 2019: Microsoft Doesn't Need You To Buy It \n",
      "First article URL: https://www.gamespot.com/articles/project-xbox-scarlett-at-e3-2019-microsoft-doesnt-/1100-6467725/ \n",
      "\n",
      "\n",
      "Second article name: Microsoft's Xbox chief: Project Scarlett likely isn't the last console \n",
      "Second article URL: https://www.cnet.com/news/microsofts-xbox-chief-project-scarlett-likely-isnt-the-last-console/ \n"
     ]
    }
   ],
   "source": [
    "# Declare the function.\n",
    "def web_search_with_response_filter(subscription_key):\n",
    "    client = WebSearchAPI(CognitiveServicesCredentials(subscription_key))\n",
    "    try:\n",
    "        '''\n",
    "        Set the query, response_filter, and freshness using the SDK's search method. See:\n",
    "        https://docs.microsoft.com/python/api/azure-cognitiveservices-search-websearch/azure.cognitiveservices.search.websearch.operations.weboperations?view=azure-python.\n",
    "        '''\n",
    "        web_data = client.web.search(query=\"xbox\",\n",
    "            response_filter=[\"News\"],\n",
    "            freshness=\"Day\")\n",
    "        print(\"\\r\\nSearching for \\\"xbox\\\" with the response filter set to \\\"News\\\" and freshness filter set to \\\"Day\\\".\")\n",
    "\n",
    "        '''\n",
    "        If news articles are available, print the # of responses, and the first and second\n",
    "        articles returned.\n",
    "        '''\n",
    "        if web_data.news.value:\n",
    "\n",
    "            print(\"# of news results: {}\".format(len(web_data.news.value)))\n",
    "\n",
    "            first_web_page = web_data.news.value[0]\n",
    "            print(\"First article name: {} \".format(first_web_page.name))\n",
    "            print(\"First article URL: {} \".format(first_web_page.url))\n",
    "\n",
    "            print(\"\")\n",
    "\n",
    "            second_web_page = web_data.news.value[1]\n",
    "            print(\"\\nSecond article name: {} \".format(second_web_page.name))\n",
    "            print(\"Second article URL: {} \".format(second_web_page.url))\n",
    "\n",
    "        else:\n",
    "            print(\"Didn't find any news articles...\")\n",
    "\n",
    "    except Exception as err:\n",
    "        print(\"Encountered exception. {}\".format(err))\n",
    "\n",
    "# Call the function.\n",
    "web_search_with_response_filter(\"7b0185c362dd42bb88eec937f6758a33\")"
   ]
  },
  {
   "cell_type": "code",
   "execution_count": 69,
   "metadata": {},
   "outputs": [],
   "source": [
    "# Declare the function.\n",
    "def web_search_with_answer_count_promote_and_safe_search(subscription_key):\n",
    "\n",
    "    client = WebSearchAPI(CognitiveServicesCredentials(subscription_key))\n",
    "\n",
    "    try:\n",
    "        '''\n",
    "        Set the query, answer_count, promote, and safe_search parameters using the SDK's search method. See:\n",
    "        https://docs.microsoft.com/python/api/azure-cognitiveservices-search-websearch/azure.cognitiveservices.search.websearch.operations.weboperations?view=azure-python.\n",
    "        '''\n",
    "        web_data = client.web.search(\n",
    "            query=\"Niagara Falls\",\n",
    "            answer_count=2,\n",
    "            promote=[\"videos\"],\n",
    "            safe_search=SafeSearch.strict  # or directly \"Strict\"\n",
    "        )\n",
    "        print(\"\\r\\nSearching for \\\"Niagara Falls\\\"\")\n",
    "\n",
    "        '''\n",
    "        If results are available, print the # of responses, and the first result returned.\n",
    "        '''\n",
    "        if web_data.web_pages.value:\n",
    "\n",
    "            print(\"Webpage Results#{}\".format(len(web_data.web_pages.value)))\n",
    "\n",
    "            first_web_page = web_data.web_pages.value[0]\n",
    "            print(\"First web page name: {} \".format(first_web_page.name))\n",
    "            print(\"First web page URL: {} \".format(first_web_page.url))\n",
    "\n",
    "        else:\n",
    "            print(\"Didn't see any Web data..\")\n",
    "\n",
    "    except Exception as err:\n",
    "        print(\"Encountered exception. {}\".format(err))"
   ]
  },
  {
   "cell_type": "code",
   "execution_count": 70,
   "metadata": {},
   "outputs": [
    {
     "name": "stderr",
     "output_type": "stream",
     "text": [
      "Subtype value Organization has no mapping, use base class Thing.\n",
      "Subtype value Organization has no mapping, use base class Thing.\n",
      "Subtype value Organization has no mapping, use base class Thing.\n",
      "Subtype value Organization has no mapping, use base class Thing.\n",
      "Subtype value Organization has no mapping, use base class Thing.\n"
     ]
    },
    {
     "name": "stdout",
     "output_type": "stream",
     "text": [
      "\r\n",
      "Searching for \"Niagara Falls\"\n",
      "Webpage Results#9\n",
      "First web page name: Niagara Falls Canada | Official Destination Website \n",
      "First web page URL: https://www.niagarafallstourism.com/ \n"
     ]
    }
   ],
   "source": [
    "web_search_with_answer_count_promote_and_safe_search(\"7b0185c362dd42bb88eec937f6758a33\")"
   ]
  }
 ],
 "metadata": {
  "kernelspec": {
   "display_name": "Python 3",
   "language": "python",
   "name": "python3"
  },
  "language_info": {
   "codemirror_mode": {
    "name": "ipython",
    "version": 3
   },
   "file_extension": ".py",
   "mimetype": "text/x-python",
   "name": "python",
   "nbconvert_exporter": "python",
   "pygments_lexer": "ipython3",
   "version": "3.6.8"
  }
 },
 "nbformat": 4,
 "nbformat_minor": 2
}
