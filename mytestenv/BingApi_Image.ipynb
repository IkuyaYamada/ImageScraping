{
 "cells": [
  {
   "cell_type": "code",
   "execution_count": 46,
   "metadata": {},
   "outputs": [],
   "source": [
    "from azure.cognitiveservices.search.imagesearch import ImageSearchAPI\n",
    "from azure.cognitiveservices.search.imagesearch.models import ImageType, ImageAspect, ImageInsightModule\n",
    "from msrest.authentication import CognitiveServicesCredentials"
   ]
  },
  {
   "cell_type": "code",
   "execution_count": 47,
   "metadata": {},
   "outputs": [],
   "source": [
    "key= \"7b0185c362dd42bb88eec937f6758a33\""
   ]
  },
  {
   "cell_type": "code",
   "execution_count": 48,
   "metadata": {},
   "outputs": [],
   "source": [
    "def image_search(subscription_key, search_term, count):\n",
    "    \"\"\"ImageSearch.\n",
    "    This will search images for (canadian rockies) then verify number of results and print out first image result, pivot suggestion, and query expansion.\n",
    "    \"\"\"\n",
    "    client = ImageSearchAPI(CognitiveServicesCredentials(subscription_key))\n",
    "    image_results = client.images.search(query=search_term, count=count)\n",
    "    for i in range(len(image_results.value)):\n",
    "        \n",
    "        try:\n",
    "            # Image results\n",
    "            if image_results.value:\n",
    "                first_image_result = image_results.value[i]\n",
    "            else:\n",
    "                print(\"Couldn't find image results!\")\n",
    "\n",
    "        except Exception as err:\n",
    "            print(\"Encountered exception. {}\".format(err))\n",
    "            break\n",
    "    return image_results.value"
   ]
  },
  {
   "cell_type": "code",
   "execution_count": 49,
   "metadata": {},
   "outputs": [],
   "source": [
    "a = image_search(key, \"mac\", 10)"
   ]
  },
  {
   "cell_type": "code",
   "execution_count": 50,
   "metadata": {},
   "outputs": [
    {
     "data": {
      "text/plain": [
       "'https://tse1.mm.bing.net/th?id=OIP.FkyLexEKxYk0tX6ydx9oEwHaE8&pid=Api'"
      ]
     },
     "execution_count": 50,
     "metadata": {},
     "output_type": "execute_result"
    }
   ],
   "source": [
    "a[0].thumbnail_url"
   ]
  },
  {
   "cell_type": "code",
   "execution_count": 51,
   "metadata": {},
   "outputs": [],
   "source": [
    "import requests\n",
    "import re\n",
    "import os"
   ]
  },
  {
   "cell_type": "code",
   "execution_count": 52,
   "metadata": {},
   "outputs": [],
   "source": [
    "def save_image(url, file_name, dir_):\n",
    "    r = requests.get(url.thumbnail_url, stream=True)\n",
    "    filename = file_name + \".\" +url.encoding_format\n",
    "    path = os.path.join(\"/Users/yamadaikuya/gitrepos/ImageScraping/mytestenv/image/\" + dir_ + \"/\",  \n",
    "                   filename)\n",
    "    with open(path, \"wb\") as f:\n",
    "        f.write(r.content)"
   ]
  },
  {
   "cell_type": "code",
   "execution_count": 53,
   "metadata": {},
   "outputs": [],
   "source": [
    "# 東京タワー100枚\n",
    "urls = image_search(key, \"東京タワー\", 100)\n",
    "for i, k in enumerate(urls):\n",
    "    file_name = \"tokyotower\" + str(i)\n",
    "    save_image(k, file_name, dir_ =\"tokyotower\")"
   ]
  },
  {
   "cell_type": "code",
   "execution_count": 54,
   "metadata": {},
   "outputs": [],
   "source": [
    "# スカイツリー100枚\n",
    "urls = image_search(key, \"スカイツリー\", 100)\n",
    "for i, k in enumerate(urls):\n",
    "    file_name = \"skytree\" + str(i)\n",
    "    save_image(k, file_name, dir_=\"skytree\")"
   ]
  }
 ],
 "metadata": {
  "kernelspec": {
   "display_name": "Python 3",
   "language": "python",
   "name": "python3"
  },
  "language_info": {
   "codemirror_mode": {
    "name": "ipython",
    "version": 3
   },
   "file_extension": ".py",
   "mimetype": "text/x-python",
   "name": "python",
   "nbconvert_exporter": "python",
   "pygments_lexer": "ipython3",
   "version": "3.6.8"
  }
 },
 "nbformat": 4,
 "nbformat_minor": 2
}
